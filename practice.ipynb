{
 "cells": [
  {
   "cell_type": "code",
   "execution_count": 1,
   "metadata": {
    "vscode": {
     "languageId": "powershell"
    }
   },
   "outputs": [
    {
     "name": "stdout",
     "output_type": "stream",
     "text": [
      "this is a practice\n"
     ]
    }
   ],
   "source": [
    "print(\"this is a practice\")\n",
    "import pandas as pd\n",
    "\n",
    "employee = pd.DataFrame({'id': [1,2,3], 'salary': [0,0,1]})  # Replace with your data\n"
   ]
  },
  {
   "cell_type": "code",
   "execution_count": null,
   "metadata": {
    "vscode": {
     "languageId": "powershell"
    }
   },
   "outputs": [],
   "source": [
    "salaries_ranked = employee['salary'].rank(method='dense',ascending=False)\n",
    "salaries_ranked"
   ]
  },
  {
   "cell_type": "code",
   "execution_count": null,
   "metadata": {
    "vscode": {
     "languageId": "powershell"
    }
   },
   "outputs": [],
   "source": [
    "  df_temp = pd.DataFrame({'salary': employee['salary'], 'rank': salaries_ranked})\n",
    "  sorted_df = df_temp.sort_values(by=['rank', 'salary'], ascending=[True, False])\n",
    "  sorted_df"
   ]
  },
  {
   "cell_type": "code",
   "execution_count": null,
   "metadata": {
    "vscode": {
     "languageId": "powershell"
    }
   },
   "outputs": [],
   "source": [
    "  df_temp = pd.DataFrame({'salary': employee['salary'], 'rank': salaries_ranked})\n",
    "  sorted_df = df_temp.sort_values(by=['rank', 'salary'], ascending=[True, False])\n",
    "\n",
    "  # Check if there are at least 2 unique salary values\n",
    "  if len(sorted_df) >= 2 and len(sorted_df['rank'].unique()) >= 2:\n",
    "    # Get the second element (considering ties)\n",
    "    second_highest_salary = sorted_df[sorted_df['rank'] == 2][['salary']]\n",
    "    second_highest_salary.columns = ['SecondHighestSalary']\n",
    "    second_highest_salary= second_highest_salary.drop_duplicates()\n",
    "  else:\n",
    "    # No second highest salary, create DataFrame with None\n",
    "    second_highest_salary = pd.DataFrame(columns=['SecondHighestSalary'])\n",
    "    second_highest_salary.loc[0, 'SecondHighestSalary'] = None\n",
    "\n",
    "second_highest_salary"
   ]
  },
  {
   "cell_type": "code",
   "execution_count": null,
   "metadata": {
    "vscode": {
     "languageId": "powershell"
    }
   },
   "outputs": [],
   "source": [
    "def second_highest_salary(employee: pd.DataFrame) -> pd.DataFrame:\n",
    "    salaries_ranked = employee['salary'].rank(method='dense',ascending=False)\n",
    "    df_temp = pd.DataFrame({'salary': employee['salary'], 'rank': salaries_ranked})\n",
    "    sorted_df = df_temp.sort_values(by=['rank', 'salary'], ascending=[True, False])\n",
    "      # Check if there are at least 2 unique salary values\n",
    "    if len(sorted_df) >= 2 and len(sorted_df['rank'].unique()) >= 2:\n",
    "    # Get the second element (considering ties)\n",
    "        second_highest_salary = sorted_df[sorted_df['rank'] == 2][['salary']]\n",
    "        second_highest_salary.columns = ['SecondHighestSalary']\n",
    "        second_highest_salary= second_highest_salary.drop_duplicates()\n",
    "    else:\n",
    "    # No second highest salary, create DataFrame with None\n",
    "        second_highest_salary = pd.DataFrame(columns=['SecondHighestSalary'])\n",
    "        second_highest_salary.loc[0, 'SecondHighestSalary'] = None\n",
    "    return second_highest_salary\n",
    "\n",
    "second_highest_salary(employee)"
   ]
  },
  {
   "cell_type": "code",
   "execution_count": null,
   "metadata": {
    "vscode": {
     "languageId": "powershell"
    }
   },
   "outputs": [],
   "source": [
    "def nth_highest_salary(employee: pd.DataFrame, n: int) -> pd.DataFrame:\n",
    "  if 'salary' not in employee.columns:\n",
    "    raise ValueError(\"DataFrame must contain a 'salary' column\")\n",
    "  if n <= 0:\n",
    "    raise ValueError(\"n must be a positive integer\")\n",
    "\n",
    "  salaries_ranked = employee['salary'].rank(method='dense', ascending=False)\n",
    "  df_temp = pd.DataFrame({'salary': employee['salary'], 'rank': salaries_ranked})\n",
    "  sorted_df = df_temp.sort_values(by=['rank', 'salary'], ascending=[True, False])\n",
    "  \n",
    "  if len(sorted_df) >= n and len(sorted_df['rank'].unique()) >= n:\n",
    "    getNth_highest_salary = sorted_df[sorted_df['rank'] == n][['salary']]\n",
    "    data = {f'getNthHighestSalary({n})': getNth_highest_salary['salary'].tolist()}\n",
    "    getNth_highest_salary = pd.DataFrame(data, index=[0])\n",
    "  else:\n",
    "    col_name = 'getNthHighestSalary'\n",
    "    getNth_highest_salary = pd.DataFrame({col_name: None})\n",
    "\n",
    "  return getNth_highest_salary\n",
    "\n",
    "nth_highest_salary(employee,4)"
   ]
  },
  {
   "cell_type": "code",
   "execution_count": null,
   "metadata": {
    "vscode": {
     "languageId": "powershell"
    }
   },
   "outputs": [],
   "source": [
    "salaries_ranked = employee['salary'].rank(method='dense',ascending=False)\n",
    "df_temp = pd.DataFrame({'salary': employee['salary'], 'rank': salaries_ranked})\n",
    "sorted_df = df_temp.sort_values(by=['rank', 'salary'], ascending=[True, False])\n",
    "\n",
    "sorted_df"
   ]
  },
  {
   "cell_type": "code",
   "execution_count": null,
   "metadata": {
    "vscode": {
     "languageId": "powershell"
    }
   },
   "outputs": [],
   "source": [
    "getNth_highest_salary = sorted_df[sorted_df['rank'] == 4][['salary']]\n",
    "len(sorted_df) >= 4\n"
   ]
  },
  {
   "cell_type": "code",
   "execution_count": null,
   "metadata": {
    "vscode": {
     "languageId": "powershell"
    }
   },
   "outputs": [],
   "source": [
    "data = {f'getNthHighestSalary({n})': getNth_highest_salary['salary'].tolist()}\n",
    "#getNth_highest_salary = pd.DataFrame(data, index=[0])"
   ]
  }
 ],
 "metadata": {
  "kernelspec": {
   "display_name": "base",
   "language": "python",
   "name": "python3"
  },
  "language_info": {
   "codemirror_mode": {
    "name": "ipython",
    "version": 3
   },
   "file_extension": ".py",
   "mimetype": "text/x-python",
   "name": "python",
   "nbconvert_exporter": "python",
   "pygments_lexer": "ipython3",
   "version": "3.9.7"
  }
 },
 "nbformat": 4,
 "nbformat_minor": 2
}
